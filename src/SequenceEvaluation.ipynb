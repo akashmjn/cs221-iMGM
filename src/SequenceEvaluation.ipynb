{
 "cells": [
  {
   "cell_type": "code",
   "execution_count": 1,
   "metadata": {},
   "outputs": [],
   "source": [
    "from monte_carlo import *\n",
    "from evaluation import *\n",
    "from pink_noise import *\n",
    "import os,sys\n",
    "import numpy as np\n",
    "import matplotlib.pyplot as plt\n",
    "import seaborn as sns\n",
    "import pandas as pd\n",
    "from midi import midi_to_matrix, matrix_to_midi, midi_to_matrix_quantized"
   ]
  },
  {
   "cell_type": "code",
   "execution_count": 2,
   "metadata": {},
   "outputs": [
    {
     "data": {
      "text/html": [
       "<script>requirejs.config({paths: { 'plotly': ['https://cdn.plot.ly/plotly-latest.min']},});if(!window.Plotly) {{require(['plotly'],function(plotly) {window.Plotly=plotly;});}}</script>"
      ],
      "text/vnd.plotly.v1+html": [
       "<script>requirejs.config({paths: { 'plotly': ['https://cdn.plot.ly/plotly-latest.min']},});if(!window.Plotly) {{require(['plotly'],function(plotly) {window.Plotly=plotly;});}}</script>"
      ]
     },
     "metadata": {},
     "output_type": "display_data"
    }
   ],
   "source": [
    "import plotly.plotly as py\n",
    "import plotly.graph_objs as go\n",
    "from plotly.offline import iplot, init_notebook_mode\n",
    "init_notebook_mode(connected=True)"
   ]
  },
  {
   "cell_type": "code",
   "execution_count": 3,
   "metadata": {},
   "outputs": [],
   "source": [
    "nNotes = 2000\n",
    "root = 60\n",
    "\n",
    "# Evaluator object\n",
    "evaluator = MelodyEvaluator(root)"
   ]
  },
  {
   "cell_type": "markdown",
   "metadata": {},
   "source": [
    "## Evaluating Pink Noise Baseline"
   ]
  },
  {
   "cell_type": "code",
   "execution_count": 10,
   "metadata": {},
   "outputs": [],
   "source": [
    "# Evaluate pink noise \n",
    "pinkNoiseGen = PinkNoise(nNotes) \n",
    "baseline_melody = pinkNoiseGen.generate_melody()"
   ]
  },
  {
   "cell_type": "code",
   "execution_count": 11,
   "metadata": {},
   "outputs": [],
   "source": [
    "evaluator.evaluate_melody(baseline_melody)\n",
    "interval_stats = evaluator.eval_stats['interval_stats']"
   ]
  },
  {
   "cell_type": "code",
   "execution_count": 12,
   "metadata": {},
   "outputs": [
    {
     "data": {
      "application/vnd.plotly.v1+json": {
       "data": [
        {
         "type": "bar",
         "x": [
          "num_octave_jumps",
          "num_sevenths",
          "num_fifths",
          "num_seconds",
          "num_thirds",
          "num_fourths",
          "num_sixths"
         ],
         "y": [
          0.3890625,
          0.04375,
          0.04895833333333333,
          0.057291666666666664,
          0.06041666666666667,
          0.053125,
          0.042708333333333334
         ]
        }
       ],
       "layout": {}
      },
      "text/html": [
       "<div id=\"dcbbecaf-3587-40d3-9719-5a1d591aeae6\" style=\"height: 525px; width: 100%;\" class=\"plotly-graph-div\"></div><script type=\"text/javascript\">require([\"plotly\"], function(Plotly) { window.PLOTLYENV=window.PLOTLYENV || {};window.PLOTLYENV.BASE_URL=\"https://plot.ly\";Plotly.newPlot(\"dcbbecaf-3587-40d3-9719-5a1d591aeae6\", [{\"type\": \"bar\", \"x\": [\"num_octave_jumps\", \"num_sevenths\", \"num_fifths\", \"num_seconds\", \"num_thirds\", \"num_fourths\", \"num_sixths\"], \"y\": [0.3890625, 0.04375, 0.04895833333333333, 0.057291666666666664, 0.06041666666666667, 0.053125, 0.042708333333333334]}], {}, {\"showLink\": true, \"linkText\": \"Export to plot.ly\"})});</script>"
      ],
      "text/vnd.plotly.v1+html": [
       "<div id=\"dcbbecaf-3587-40d3-9719-5a1d591aeae6\" style=\"height: 525px; width: 100%;\" class=\"plotly-graph-div\"></div><script type=\"text/javascript\">require([\"plotly\"], function(Plotly) { window.PLOTLYENV=window.PLOTLYENV || {};window.PLOTLYENV.BASE_URL=\"https://plot.ly\";Plotly.newPlot(\"dcbbecaf-3587-40d3-9719-5a1d591aeae6\", [{\"type\": \"bar\", \"x\": [\"num_octave_jumps\", \"num_sevenths\", \"num_fifths\", \"num_seconds\", \"num_thirds\", \"num_fourths\", \"num_sixths\"], \"y\": [0.3890625, 0.04375, 0.04895833333333333, 0.057291666666666664, 0.06041666666666667, 0.053125, 0.042708333333333334]}], {}, {\"showLink\": true, \"linkText\": \"Export to plot.ly\"})});</script>"
      ]
     },
     "metadata": {},
     "output_type": "display_data"
    }
   ],
   "source": [
    "data = [go.Bar(x=[key for key in interval_stats.keys()], y=[val for val in interval_stats.values()])]\n",
    "iplot(go.Figure(data=data), filename='test.png')"
   ]
  },
  {
   "cell_type": "code",
   "execution_count": 13,
   "metadata": {},
   "outputs": [],
   "source": [
    "pinkNoiseGen.output_midi(baseline_melody,'../data/pink.mid')"
   ]
  },
  {
   "cell_type": "markdown",
   "metadata": {},
   "source": [
    "## Evaluate baseline Markov Process"
   ]
  },
  {
   "cell_type": "markdown",
   "metadata": {},
   "source": [
    "### Classical piece files"
   ]
  },
  {
   "cell_type": "code",
   "execution_count": 14,
   "metadata": {},
   "outputs": [
    {
     "name": "stderr",
     "output_type": "stream",
     "text": [
      "/Users/Akash/Stanford/Fall2017/CS221/project/cs221-iMGM/src/pretty_midi/pretty_midi.py:100: RuntimeWarning:\n",
      "\n",
      "Tempo, Key or Time signature change events found on non-zero tracks.  This is not a valid type 0 or type 1 MIDI file.  Tempo, Key or Time Signature may be wrong.\n",
      "\n"
     ]
    }
   ],
   "source": [
    "# Evaluate baseline Markov process\n",
    "monteCarloGen = MonteCarlo(\"../data/RedditMIDI/Classical_mfiles.co.uk_MIDIRip/\")\n",
    "monteCarloGen.train()"
   ]
  },
  {
   "cell_type": "code",
   "execution_count": 16,
   "metadata": {},
   "outputs": [],
   "source": [
    "markov_melody = monteCarloGen.generate_melody(note1=root,num_notes=nNotes)"
   ]
  },
  {
   "cell_type": "code",
   "execution_count": 17,
   "metadata": {},
   "outputs": [
    {
     "data": {
      "application/vnd.plotly.v1+json": {
       "data": [
        {
         "type": "bar",
         "x": [
          "num_sixths",
          "num_octave_jumps",
          "num_seconds",
          "num_fourths",
          "num_thirds",
          "num_fifths",
          "num_sevenths"
         ],
         "y": [
          0.039337474120082816,
          0.3721532091097309,
          0.08592132505175984,
          0.09057971014492754,
          0.08954451345755693,
          0.06832298136645963,
          0.005693581780538302
         ]
        }
       ],
       "layout": {}
      },
      "text/html": [
       "<div id=\"a774ece7-3680-42ab-bc25-b2a4d0fea1ba\" style=\"height: 525px; width: 100%;\" class=\"plotly-graph-div\"></div><script type=\"text/javascript\">require([\"plotly\"], function(Plotly) { window.PLOTLYENV=window.PLOTLYENV || {};window.PLOTLYENV.BASE_URL=\"https://plot.ly\";Plotly.newPlot(\"a774ece7-3680-42ab-bc25-b2a4d0fea1ba\", [{\"type\": \"bar\", \"x\": [\"num_sixths\", \"num_octave_jumps\", \"num_seconds\", \"num_fourths\", \"num_thirds\", \"num_fifths\", \"num_sevenths\"], \"y\": [0.039337474120082816, 0.3721532091097309, 0.08592132505175984, 0.09057971014492754, 0.08954451345755693, 0.06832298136645963, 0.005693581780538302]}], {}, {\"showLink\": true, \"linkText\": \"Export to plot.ly\"})});</script>"
      ],
      "text/vnd.plotly.v1+html": [
       "<div id=\"a774ece7-3680-42ab-bc25-b2a4d0fea1ba\" style=\"height: 525px; width: 100%;\" class=\"plotly-graph-div\"></div><script type=\"text/javascript\">require([\"plotly\"], function(Plotly) { window.PLOTLYENV=window.PLOTLYENV || {};window.PLOTLYENV.BASE_URL=\"https://plot.ly\";Plotly.newPlot(\"a774ece7-3680-42ab-bc25-b2a4d0fea1ba\", [{\"type\": \"bar\", \"x\": [\"num_sixths\", \"num_octave_jumps\", \"num_seconds\", \"num_fourths\", \"num_thirds\", \"num_fifths\", \"num_sevenths\"], \"y\": [0.039337474120082816, 0.3721532091097309, 0.08592132505175984, 0.09057971014492754, 0.08954451345755693, 0.06832298136645963, 0.005693581780538302]}], {}, {\"showLink\": true, \"linkText\": \"Export to plot.ly\"})});</script>"
      ]
     },
     "metadata": {},
     "output_type": "display_data"
    }
   ],
   "source": [
    "evaluator.evaluate_melody(markov_melody)\n",
    "interval_stats = evaluator.eval_stats['interval_stats']\n",
    "data = [go.Bar(x=[key for key in interval_stats.keys()], y=[val for val in interval_stats.values()])]\n",
    "iplot(go.Figure(data=data), filename='test.png')"
   ]
  },
  {
   "cell_type": "markdown",
   "metadata": {},
   "source": [
    "### Jazz dataset"
   ]
  },
  {
   "cell_type": "code",
   "execution_count": 7,
   "metadata": {},
   "outputs": [
    {
     "name": "stderr",
     "output_type": "stream",
     "text": [
      "/Users/Akash/Stanford/Fall2017/CS221/project/cs221-iMGM/src/pretty_midi/pretty_midi.py:100: RuntimeWarning:\n",
      "\n",
      "Tempo, Key or Time signature change events found on non-zero tracks.  This is not a valid type 0 or type 1 MIDI file.  Tempo, Key or Time Signature may be wrong.\n",
      "\n"
     ]
    },
    {
     "name": "stdout",
     "output_type": "stream",
     "text": [
      "Error processing file, MIDI output path: ../data/RedditMIDI/Jazz_www.thejazzpage.de_MIDIRip/OpFunk.mid\n",
      "Error processing file, MIDI output path: ../data/RedditMIDI/Jazz_www.thejazzpage.de_MIDIRip/poinciana.mid\n"
     ]
    }
   ],
   "source": [
    "# Evaluate baseline Markov process\n",
    "monteCarloGen = MonteCarlo(\"../data/RedditMIDI/Jazz_www.thejazzpage.de_MIDIRip/\")\n",
    "monteCarloGen.train()"
   ]
  },
  {
   "cell_type": "code",
   "execution_count": 8,
   "metadata": {},
   "outputs": [],
   "source": [
    "markov_melody = monteCarloGen.generate_melody(note1=root,num_notes=nNotes)"
   ]
  },
  {
   "cell_type": "code",
   "execution_count": 9,
   "metadata": {},
   "outputs": [
    {
     "data": {
      "application/vnd.plotly.v1+json": {
       "data": [
        {
         "type": "bar",
         "x": [
          "num_octave_jumps",
          "num_seconds",
          "num_fifths",
          "num_fourths",
          "num_thirds",
          "num_sixths",
          "num_sevenths"
         ],
         "y": [
          0.37222222222222223,
          0.05722222222222222,
          0.0661111111111111,
          0.09888888888888889,
          0.08388888888888889,
          0.05722222222222222,
          0.03166666666666667
         ]
        }
       ],
       "layout": {}
      },
      "text/html": [
       "<div id=\"67e1f097-c3ad-436f-a5c1-da45b51027c5\" style=\"height: 525px; width: 100%;\" class=\"plotly-graph-div\"></div><script type=\"text/javascript\">require([\"plotly\"], function(Plotly) { window.PLOTLYENV=window.PLOTLYENV || {};window.PLOTLYENV.BASE_URL=\"https://plot.ly\";Plotly.newPlot(\"67e1f097-c3ad-436f-a5c1-da45b51027c5\", [{\"type\": \"bar\", \"x\": [\"num_octave_jumps\", \"num_seconds\", \"num_fifths\", \"num_fourths\", \"num_thirds\", \"num_sixths\", \"num_sevenths\"], \"y\": [0.37222222222222223, 0.05722222222222222, 0.0661111111111111, 0.09888888888888889, 0.08388888888888889, 0.05722222222222222, 0.03166666666666667]}], {}, {\"showLink\": true, \"linkText\": \"Export to plot.ly\"})});</script>"
      ],
      "text/vnd.plotly.v1+html": [
       "<div id=\"67e1f097-c3ad-436f-a5c1-da45b51027c5\" style=\"height: 525px; width: 100%;\" class=\"plotly-graph-div\"></div><script type=\"text/javascript\">require([\"plotly\"], function(Plotly) { window.PLOTLYENV=window.PLOTLYENV || {};window.PLOTLYENV.BASE_URL=\"https://plot.ly\";Plotly.newPlot(\"67e1f097-c3ad-436f-a5c1-da45b51027c5\", [{\"type\": \"bar\", \"x\": [\"num_octave_jumps\", \"num_seconds\", \"num_fifths\", \"num_fourths\", \"num_thirds\", \"num_sixths\", \"num_sevenths\"], \"y\": [0.37222222222222223, 0.05722222222222222, 0.0661111111111111, 0.09888888888888889, 0.08388888888888889, 0.05722222222222222, 0.03166666666666667]}], {}, {\"showLink\": true, \"linkText\": \"Export to plot.ly\"})});</script>"
      ]
     },
     "metadata": {},
     "output_type": "display_data"
    }
   ],
   "source": [
    "evaluator.evaluate_melody(markov_melody)\n",
    "interval_stats = evaluator.eval_stats['interval_stats']\n",
    "data = [go.Bar(x=[key for key in interval_stats.keys()], y=[val for val in interval_stats.values()])]\n",
    "iplot(go.Figure(data=data), filename='test.png')"
   ]
  },
  {
   "cell_type": "code",
   "execution_count": 14,
   "metadata": {},
   "outputs": [],
   "source": [
    "# Evaluate source (training) MIDI files directly \n",
    "monteCarloGen.output_midi(markov_melody,'../data/outJazz.mid')"
   ]
  },
  {
   "cell_type": "code",
   "execution_count": null,
   "metadata": {},
   "outputs": [],
   "source": []
  }
 ],
 "metadata": {
  "kernelspec": {
   "display_name": "Python 3",
   "language": "python",
   "name": "python3"
  },
  "language_info": {
   "codemirror_mode": {
    "name": "ipython",
    "version": 3
   },
   "file_extension": ".py",
   "mimetype": "text/x-python",
   "name": "python",
   "nbconvert_exporter": "python",
   "pygments_lexer": "ipython3",
   "version": "3.6.3"
  }
 },
 "nbformat": 4,
 "nbformat_minor": 2
}
