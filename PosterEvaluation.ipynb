{
 "cells": [
  {
   "cell_type": "code",
   "execution_count": 20,
   "metadata": {},
   "outputs": [],
   "source": [
    "folder = \"data/posterExhibits/\""
   ]
  },
  {
   "cell_type": "code",
   "execution_count": 21,
   "metadata": {},
   "outputs": [
    {
     "data": {
      "text/html": [
       "<script>requirejs.config({paths: { 'plotly': ['https://cdn.plot.ly/plotly-latest.min']},});if(!window.Plotly) {{require(['plotly'],function(plotly) {window.Plotly=plotly;});}}</script>"
      ],
      "text/vnd.plotly.v1+html": [
       "<script>requirejs.config({paths: { 'plotly': ['https://cdn.plot.ly/plotly-latest.min']},});if(!window.Plotly) {{require(['plotly'],function(plotly) {window.Plotly=plotly;});}}</script>"
      ]
     },
     "metadata": {},
     "output_type": "display_data"
    }
   ],
   "source": [
    "import os\n",
    "import numpy as np\n",
    "from src.evaluation import MelodyEvaluator\n",
    "from src.midi import midi_to_matrix\n",
    "import plotly.plotly as py\n",
    "import plotly.graph_objs as go\n",
    "from plotly.offline import iplot, init_notebook_mode\n",
    "init_notebook_mode(connected=True)"
   ]
  },
  {
   "cell_type": "code",
   "execution_count": 22,
   "metadata": {},
   "outputs": [
    {
     "name": "stdout",
     "output_type": "stream",
     "text": [
      "[('markov_duration.mid', 'data/posterExhibits/markov_duration.mid'), ('pink_noise.mid', 'data/posterExhibits/pink_noise.mid'), ('vanilla_RNN.mid', 'data/posterExhibits/vanilla_RNN.mid')]\n"
     ]
    }
   ],
   "source": [
    "file_list = []\n",
    "for _, _, files in os.walk(folder):\n",
    "    for file in files:\n",
    "        filepath = os.path.join(folder, file)\n",
    "        file_list.append((file, filepath))        \n",
    "print (file_list)"
   ]
  },
  {
   "cell_type": "code",
   "execution_count": 23,
   "metadata": {},
   "outputs": [
    {
     "name": "stdout",
     "output_type": "stream",
     "text": [
      "markov_duration.mid\n",
      "pink_noise.mid\n",
      "vanilla_RNN.mid\n"
     ]
    },
    {
     "data": {
      "application/vnd.plotly.v1+json": {
       "data": [
        {
         "name": "markov_duration.mid",
         "type": "bar",
         "x": [
          "num_seconds",
          "num_octave_jumps",
          "num_fifths",
          "num_thirds",
          "num_sixths",
          "num_fourths"
         ],
         "y": [
          0.4282115869017632,
          0.017632241813602016,
          0.05289672544080604,
          0.07052896725440806,
          0.012594458438287154,
          0.06297229219143577
         ]
        },
        {
         "name": "pink_noise.mid",
         "type": "bar",
         "x": [
          "num_octave_jumps",
          "num_sevenths",
          "num_fifths",
          "num_seconds",
          "num_thirds",
          "num_fourths",
          "num_sixths"
         ],
         "y": [
          0.3890625,
          0.04375,
          0.04895833333333333,
          0.057291666666666664,
          0.06041666666666667,
          0.053125,
          0.042708333333333334
         ]
        },
        {
         "name": "vanilla_RNN.mid",
         "type": "bar",
         "x": [
          "num_seconds",
          "num_thirds",
          "num_fourths",
          "num_fifths",
          "num_octave_jumps",
          "num_sixths"
         ],
         "y": [
          0.4182242990654206,
          0.04439252336448598,
          0.08878504672897196,
          0.04439252336448598,
          0.035046728971962614,
          0.004672897196261682
         ]
        }
       ],
       "layout": {
        "barmode": "group"
       }
      },
      "text/html": [
       "<div id=\"a6d95089-6fba-41a3-87fa-aa64975ab74a\" style=\"height: 525px; width: 100%;\" class=\"plotly-graph-div\"></div><script type=\"text/javascript\">require([\"plotly\"], function(Plotly) { window.PLOTLYENV=window.PLOTLYENV || {};window.PLOTLYENV.BASE_URL=\"https://plot.ly\";Plotly.newPlot(\"a6d95089-6fba-41a3-87fa-aa64975ab74a\", [{\"type\": \"bar\", \"x\": [\"num_seconds\", \"num_octave_jumps\", \"num_fifths\", \"num_thirds\", \"num_sixths\", \"num_fourths\"], \"y\": [0.4282115869017632, 0.017632241813602016, 0.05289672544080604, 0.07052896725440806, 0.012594458438287154, 0.06297229219143577], \"name\": \"markov_duration.mid\"}, {\"type\": \"bar\", \"x\": [\"num_octave_jumps\", \"num_sevenths\", \"num_fifths\", \"num_seconds\", \"num_thirds\", \"num_fourths\", \"num_sixths\"], \"y\": [0.3890625, 0.04375, 0.04895833333333333, 0.057291666666666664, 0.06041666666666667, 0.053125, 0.042708333333333334], \"name\": \"pink_noise.mid\"}, {\"type\": \"bar\", \"x\": [\"num_seconds\", \"num_thirds\", \"num_fourths\", \"num_fifths\", \"num_octave_jumps\", \"num_sixths\"], \"y\": [0.4182242990654206, 0.04439252336448598, 0.08878504672897196, 0.04439252336448598, 0.035046728971962614, 0.004672897196261682], \"name\": \"vanilla_RNN.mid\"}], {\"barmode\": \"group\"}, {\"showLink\": true, \"linkText\": \"Export to plot.ly\"})});</script>"
      ],
      "text/vnd.plotly.v1+html": [
       "<div id=\"a6d95089-6fba-41a3-87fa-aa64975ab74a\" style=\"height: 525px; width: 100%;\" class=\"plotly-graph-div\"></div><script type=\"text/javascript\">require([\"plotly\"], function(Plotly) { window.PLOTLYENV=window.PLOTLYENV || {};window.PLOTLYENV.BASE_URL=\"https://plot.ly\";Plotly.newPlot(\"a6d95089-6fba-41a3-87fa-aa64975ab74a\", [{\"type\": \"bar\", \"x\": [\"num_seconds\", \"num_octave_jumps\", \"num_fifths\", \"num_thirds\", \"num_sixths\", \"num_fourths\"], \"y\": [0.4282115869017632, 0.017632241813602016, 0.05289672544080604, 0.07052896725440806, 0.012594458438287154, 0.06297229219143577], \"name\": \"markov_duration.mid\"}, {\"type\": \"bar\", \"x\": [\"num_octave_jumps\", \"num_sevenths\", \"num_fifths\", \"num_seconds\", \"num_thirds\", \"num_fourths\", \"num_sixths\"], \"y\": [0.3890625, 0.04375, 0.04895833333333333, 0.057291666666666664, 0.06041666666666667, 0.053125, 0.042708333333333334], \"name\": \"pink_noise.mid\"}, {\"type\": \"bar\", \"x\": [\"num_seconds\", \"num_thirds\", \"num_fourths\", \"num_fifths\", \"num_octave_jumps\", \"num_sixths\"], \"y\": [0.4182242990654206, 0.04439252336448598, 0.08878504672897196, 0.04439252336448598, 0.035046728971962614, 0.004672897196261682], \"name\": \"vanilla_RNN.mid\"}], {\"barmode\": \"group\"}, {\"showLink\": true, \"linkText\": \"Export to plot.ly\"})});</script>"
      ]
     },
     "metadata": {},
     "output_type": "display_data"
    }
   ],
   "source": [
    "root = 60\n",
    "evaluator = MelodyEvaluator(root)\n",
    "data = []\n",
    "for file, filepath in file_list:\n",
    "    print (file)\n",
    "    mat = midi_to_matrix(filepath)\n",
    "    evaluator.evaluate_melody(mat)\n",
    "    interval_stats = evaluator.eval_stats['interval_stats']\n",
    "    data.append(go.Bar(x=[key for key in interval_stats.keys()], y=[val for val in interval_stats.values()],name=file))\n",
    "\n",
    "layout = go.Layout(\n",
    "    barmode='group'\n",
    ")\n",
    "\n",
    "fig = go.Figure(data=data, layout=layout)\n",
    "iplot(fig, filename='grouped-bar')\n",
    "    \n",
    "    "
   ]
  },
  {
   "cell_type": "code",
   "execution_count": null,
   "metadata": {},
   "outputs": [],
   "source": []
  }
 ],
 "metadata": {
  "kernelspec": {
   "display_name": "Python 3",
   "language": "python",
   "name": "python3"
  },
  "language_info": {
   "codemirror_mode": {
    "name": "ipython",
    "version": 3
   },
   "file_extension": ".py",
   "mimetype": "text/x-python",
   "name": "python",
   "nbconvert_exporter": "python",
   "pygments_lexer": "ipython3",
   "version": "3.6.3"
  }
 },
 "nbformat": 4,
 "nbformat_minor": 2
}
